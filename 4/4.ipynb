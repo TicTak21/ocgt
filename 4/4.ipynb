{
 "cells": [
  {
   "cell_type": "code",
   "execution_count": 2,
   "metadata": {},
   "outputs": [],
   "source": [
    "import numpy as np\n",
    "import scipy.integrate\n",
    "import itertools\n",
    "import matplotlib.pyplot as plt\n",
    "import operator"
   ]
  },
  {
   "cell_type": "code",
   "execution_count": 224,
   "metadata": {},
   "outputs": [],
   "source": [
    "N = 20"
   ]
  },
  {
   "cell_type": "code",
   "execution_count": 225,
   "metadata": {},
   "outputs": [],
   "source": [
    "t, dt = np.linspace(0, 2, N+1, retstep=True)"
   ]
  },
  {
   "cell_type": "code",
   "execution_count": 226,
   "metadata": {},
   "outputs": [],
   "source": [
    "x0 = 0\n",
    "x1 = 0"
   ]
  },
  {
   "cell_type": "code",
   "execution_count": 227,
   "metadata": {},
   "outputs": [],
   "source": [
    "def f0(par):\n",
    "    return (par[0]+(par[1]**2))"
   ]
  },
  {
   "cell_type": "code",
   "execution_count": 228,
   "metadata": {},
   "outputs": [],
   "source": [
    "G = []\n",
    "G.append([x0])\n",
    "for i in range(1, N):\n",
    "    xs = np.linspace(-3, 3, 30)\n",
    "    G.append(xs)\n",
    "G.append([x1])"
   ]
  },
  {
   "cell_type": "code",
   "execution_count": 229,
   "metadata": {},
   "outputs": [],
   "source": [
    "M = []\n",
    "for k in range(0, len(G)-1):\n",
    "    M.append([])\n",
    "    for i in G[k]:\n",
    "        for j in G[k+1]:\n",
    "            v = [None, None]\n",
    "            v.append(round(i, 2))\n",
    "            v.append(round(j, 2))\n",
    "            u = -j - (j - i)/dt\n",
    "            if -3. <= u <= 3.:\n",
    "                v[1] = round(u, 2)\n",
    "                v[0] = (f0([j , u]) + f0([i, u]))/2\n",
    "                M[k].append(v)"
   ]
  },
  {
   "cell_type": "code",
   "execution_count": 230,
   "metadata": {},
   "outputs": [
    {
     "name": "stdout",
     "output_type": "stream",
     "text": [
      "[0]\n"
     ]
    }
   ],
   "source": [
    "J = []\n",
    "\n",
    "\n",
    "c = 0\n",
    "f = len(M)\n",
    "for i in M:\n",
    "    J.append({})\n",
    "    NM = [j[3] for j in i]\n",
    "    dest = np.unique(NM, axis=0)\n",
    "    if c == 19:\n",
    "        print(dest)\n",
    "    for j in dest:\n",
    "        z = j\n",
    "        l = [item for item in i if np.all(item[3] == z)]\n",
    "        minimum = np.inf\n",
    "        m_dot = 0\n",
    "        for k in l:\n",
    "            if c == 0:\n",
    "                if k[0] < minimum:\n",
    "                    minimum = k[0]\n",
    "                    m_dot = k.copy()\n",
    "            else:\n",
    "                if k[2] in J[c-1]:\n",
    "                    if k[0] + J[c-1][k[2]][0] <  minimum:\n",
    "                        minimum = k[0] + J[c-1][k[2]][0]\n",
    "                        m_dot = k.copy()\n",
    "            J[c][z] = [minimum, m_dot]\n",
    "    c += 1"
   ]
  },
  {
   "cell_type": "code",
   "execution_count": 231,
   "metadata": {},
   "outputs": [],
   "source": [
    "dot_opt = min(J[19], key= lambda k: J[19][k][0])"
   ]
  },
  {
   "cell_type": "code",
   "execution_count": 232,
   "metadata": {},
   "outputs": [],
   "source": [
    "xopt = []\n",
    "uopt = []\n",
    "Jopt = 0 "
   ]
  },
  {
   "cell_type": "code",
   "execution_count": 233,
   "metadata": {},
   "outputs": [],
   "source": [
    "Jopt = J[19][dot_opt][0]"
   ]
  },
  {
   "cell_type": "code",
   "execution_count": 234,
   "metadata": {},
   "outputs": [],
   "source": [
    "next_opt = dot_opt\n",
    "for i in range(19, -1, -1):\n",
    "    xopt.insert(0 ,J[i][next_opt][1][3])\n",
    "    uopt.insert(0, J[i][next_opt][1][1])\n",
    "    next_opt = J[i][next_opt][1][2]\n",
    "\n",
    "xopt.insert(0, x0)"
   ]
  },
  {
   "cell_type": "code",
   "execution_count": 235,
   "metadata": {},
   "outputs": [
    {
     "data": {
      "text/plain": [
       "0.5921521997621875"
      ]
     },
     "execution_count": 235,
     "metadata": {},
     "output_type": "execute_result"
    }
   ],
   "source": [
    "Jopt"
   ]
  },
  {
   "cell_type": "code",
   "execution_count": 236,
   "metadata": {},
   "outputs": [
    {
     "data": {
      "image/png": "[encoded data removed]",
      "text/plain": [
       "<Figure size 432x288 with 1 Axes>"
      ]
     },
     "metadata": {
      "needs_background": "light"
     },
     "output_type": "display_data"
    }
   ],
   "source": [
    "fig, ax = plt.subplots()\n",
    "\n",
    "ax.plot(t, xopt, linewidth=3, color = 'orange')\n",
    "ax.set_xlabel('t')\n",
    "ax.set_ylabel('x')\n",
    "ax.grid()\n",
    "\n",
    "plt.show()"
   ]
  },
  {
   "cell_type": "code",
   "execution_count": 237,
   "metadata": {},
   "outputs": [
    {
     "data": {
      "image/png": "[encoded data removed]",
      "text/plain": [
       "<Figure size 432x288 with 1 Axes>"
      ]
     },
     "metadata": {
      "needs_background": "light"
     },
     "output_type": "display_data"
    }
   ],
   "source": [
    "fig, ax = plt.subplots()\n",
    "\n",
    "ax.plot(t[1:], uopt, linewidth=3, color = 'blue')\n",
    "ax.set_xlabel('t')\n",
    "ax.set_ylabel('u')\n",
    "ax.grid()\n",
    "\n",
    "plt.show()"
   ]
  }
 ],
 "metadata": {
  "interpreter": {
   "hash": "31f2aee4e71d21fbe5cf8b01ff0e069b9275f58929596ceb00d14d90e3e16cd6"
  },
  "kernelspec": {
   "display_name": "Python 3.8.2 64-bit",
   "name": "python3"
  },
  "language_info": {
   "name": "python",
   "version": ""
  }
 },
 "nbformat": 4,
 "nbformat_minor": 4
}